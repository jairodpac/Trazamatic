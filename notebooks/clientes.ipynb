{
 "cells": [
  {
   "cell_type": "code",
   "execution_count": 2,
   "id": "f8baf5be",
   "metadata": {},
   "outputs": [],
   "source": [
    "import pandas as pd"
   ]
  },
  {
   "cell_type": "code",
   "execution_count": 3,
   "id": "0a0b8997",
   "metadata": {},
   "outputs": [],
   "source": [
    "#rutas de origen de los datos\n",
    "ruta = \"D:/Proyectos/Trazamatic/data/raw/clientes.csv\"\n",
    "\n"
   ]
  },
  {
   "cell_type": "code",
   "execution_count": 4,
   "id": "7445f512",
   "metadata": {},
   "outputs": [
    {
     "data": {
      "text/html": [
       "<div>\n",
       "<style scoped>\n",
       "    .dataframe tbody tr th:only-of-type {\n",
       "        vertical-align: middle;\n",
       "    }\n",
       "\n",
       "    .dataframe tbody tr th {\n",
       "        vertical-align: top;\n",
       "    }\n",
       "\n",
       "    .dataframe thead th {\n",
       "        text-align: right;\n",
       "    }\n",
       "</style>\n",
       "<table border=\"1\" class=\"dataframe\">\n",
       "  <thead>\n",
       "    <tr style=\"text-align: right;\">\n",
       "      <th></th>\n",
       "      <th>id_cliente</th>\n",
       "      <th>nombre_empresa</th>\n",
       "      <th>nit</th>\n",
       "      <th>direccion</th>\n",
       "      <th>ciudad</th>\n",
       "      <th>contacto_nombre</th>\n",
       "      <th>contacto_telefono</th>\n",
       "      <th>contacto_email</th>\n",
       "    </tr>\n",
       "  </thead>\n",
       "  <tbody>\n",
       "    <tr>\n",
       "      <th>0</th>\n",
       "      <td>1</td>\n",
       "      <td>Aguilera-Priego</td>\n",
       "      <td>3357572351</td>\n",
       "      <td>Ronda Calixta Rosales 21\\nCiudad, 04828</td>\n",
       "      <td>Álava</td>\n",
       "      <td>Marisol Adadia Santana</td>\n",
       "      <td>+34726395628</td>\n",
       "      <td>tnogues@sans.com</td>\n",
       "    </tr>\n",
       "    <tr>\n",
       "      <th>1</th>\n",
       "      <td>2</td>\n",
       "      <td>Garriga LLC</td>\n",
       "      <td>8297897460</td>\n",
       "      <td>Via Febe Gallo 105 Puerta 3 \\nCádiz, 19459</td>\n",
       "      <td>Valladolid</td>\n",
       "      <td>Ascensión Manso Solera</td>\n",
       "      <td>+34735136965</td>\n",
       "      <td>luis-miguelporcel@yahoo.com</td>\n",
       "    </tr>\n",
       "    <tr>\n",
       "      <th>2</th>\n",
       "      <td>3</td>\n",
       "      <td>Jordán-Izquierdo</td>\n",
       "      <td>6734725844</td>\n",
       "      <td>Pasaje de Rosenda Barroso 36 Puerta 3 \\nCórdob...</td>\n",
       "      <td>La Coruña</td>\n",
       "      <td>Amaro Villalba Lago</td>\n",
       "      <td>+34869 01 76 72</td>\n",
       "      <td>hvicens@hotmail.com</td>\n",
       "    </tr>\n",
       "    <tr>\n",
       "      <th>3</th>\n",
       "      <td>4</td>\n",
       "      <td>Peña Inc</td>\n",
       "      <td>1187335303</td>\n",
       "      <td>Pasaje Isidoro Agudo 146\\nCáceres, 59251</td>\n",
       "      <td>Guadalajara</td>\n",
       "      <td>Josefa Heredia-Bermudez</td>\n",
       "      <td>+34733403084</td>\n",
       "      <td>fidelabarros@poza.com</td>\n",
       "    </tr>\n",
       "    <tr>\n",
       "      <th>4</th>\n",
       "      <td>5</td>\n",
       "      <td>Galván PLC</td>\n",
       "      <td>2084355067</td>\n",
       "      <td>Alameda Candela Amigó 409 Piso 9 \\nBarcelona, ...</td>\n",
       "      <td>Zaragoza</td>\n",
       "      <td>Carmela Bosch Echevarría</td>\n",
       "      <td>+34713156572</td>\n",
       "      <td>auroravilla@hotmail.com</td>\n",
       "    </tr>\n",
       "  </tbody>\n",
       "</table>\n",
       "</div>"
      ],
      "text/plain": [
       "   id_cliente    nombre_empresa         nit  \\\n",
       "0           1   Aguilera-Priego  3357572351   \n",
       "1           2       Garriga LLC  8297897460   \n",
       "2           3  Jordán-Izquierdo  6734725844   \n",
       "3           4          Peña Inc  1187335303   \n",
       "4           5        Galván PLC  2084355067   \n",
       "\n",
       "                                           direccion       ciudad  \\\n",
       "0            Ronda Calixta Rosales 21\\nCiudad, 04828        Álava   \n",
       "1         Via Febe Gallo 105 Puerta 3 \\nCádiz, 19459   Valladolid   \n",
       "2  Pasaje de Rosenda Barroso 36 Puerta 3 \\nCórdob...    La Coruña   \n",
       "3           Pasaje Isidoro Agudo 146\\nCáceres, 59251  Guadalajara   \n",
       "4  Alameda Candela Amigó 409 Piso 9 \\nBarcelona, ...     Zaragoza   \n",
       "\n",
       "            contacto_nombre contacto_telefono               contacto_email  \n",
       "0    Marisol Adadia Santana      +34726395628             tnogues@sans.com  \n",
       "1    Ascensión Manso Solera      +34735136965  luis-miguelporcel@yahoo.com  \n",
       "2       Amaro Villalba Lago   +34869 01 76 72          hvicens@hotmail.com  \n",
       "3   Josefa Heredia-Bermudez      +34733403084        fidelabarros@poza.com  \n",
       "4  Carmela Bosch Echevarría      +34713156572      auroravilla@hotmail.com  "
      ]
     },
     "execution_count": 4,
     "metadata": {},
     "output_type": "execute_result"
    }
   ],
   "source": [
    "\n",
    "#Pimera tabla de datos \"clientes\" \n",
    "clientes = pd.read_csv(ruta, sep=\",\", encoding=\"utf-8\")\n",
    "clientes.head()"
   ]
  },
  {
   "cell_type": "code",
   "execution_count": 9,
   "id": "ffddcafd",
   "metadata": {},
   "outputs": [
    {
     "name": "stdout",
     "output_type": "stream",
     "text": [
      "<class 'pandas.core.frame.DataFrame'>\n",
      "RangeIndex: 1500 entries, 0 to 1499\n",
      "Data columns (total 7 columns):\n",
      " #   Column             Non-Null Count  Dtype \n",
      "---  ------             --------------  ----- \n",
      " 0   nombre_empresa     1500 non-null   object\n",
      " 1   nit                1500 non-null   int64 \n",
      " 2   direccion          1500 non-null   object\n",
      " 3   ciudad             1500 non-null   object\n",
      " 4   contacto_nombre    1500 non-null   object\n",
      " 5   contacto_telefono  1500 non-null   object\n",
      " 6   contacto_email     1500 non-null   object\n",
      "dtypes: int64(1), object(6)\n",
      "memory usage: 82.2+ KB\n"
     ]
    }
   ],
   "source": [
    "clientes.shape  # Muestra el número de filas y columnas\n",
    "clientes.info()  # Muestra información sobre el DataFrame\n"
   ]
  },
  {
   "cell_type": "code",
   "execution_count": 7,
   "id": "8e38dbe6",
   "metadata": {},
   "outputs": [],
   "source": [
    "#Eliminar columna id_cliente\n",
    "clientes = clientes.drop(columns=['id_cliente'])"
   ]
  },
  {
   "cell_type": "code",
   "execution_count": 12,
   "id": "87262e16",
   "metadata": {},
   "outputs": [],
   "source": [
    "#renombrar columnas\n",
    "clientes = clientes.rename(columns={'contacto_telefono': 'telefono',\n",
    "                                   'contacto_email': 'email',\n",
    "                                   'contacto_nombre': 'nombre_contacto',\n",
    "                                   'contacto_apellido': 'apellido_contacto'})"
   ]
  },
  {
   "cell_type": "code",
   "execution_count": 13,
   "id": "e4cd8a1a",
   "metadata": {},
   "outputs": [],
   "source": [
    "#eliminar espacios en blanco en columna telefono\n",
    "clientes['telefono'] = clientes['telefono'].str.strip()"
   ]
  },
  {
   "cell_type": "code",
   "execution_count": 16,
   "id": "ff9a7cdd",
   "metadata": {},
   "outputs": [],
   "source": [
    "#eliminar caracteres no numericos en columna telefono\n",
    "clientes['telefono'] = clientes['telefono'].str.replace(r'\\D', '', regex=True)"
   ]
  },
  {
   "cell_type": "code",
   "execution_count": 23,
   "id": "1bf3b067",
   "metadata": {},
   "outputs": [
    {
     "data": {
      "text/html": [
       "<div>\n",
       "<style scoped>\n",
       "    .dataframe tbody tr th:only-of-type {\n",
       "        vertical-align: middle;\n",
       "    }\n",
       "\n",
       "    .dataframe tbody tr th {\n",
       "        vertical-align: top;\n",
       "    }\n",
       "\n",
       "    .dataframe thead th {\n",
       "        text-align: right;\n",
       "    }\n",
       "</style>\n",
       "<table border=\"1\" class=\"dataframe\">\n",
       "  <thead>\n",
       "    <tr style=\"text-align: right;\">\n",
       "      <th></th>\n",
       "      <th>nombre_empresa</th>\n",
       "      <th>nit</th>\n",
       "      <th>direccion</th>\n",
       "      <th>ciudad</th>\n",
       "      <th>nombre_contacto</th>\n",
       "      <th>telefono</th>\n",
       "      <th>email</th>\n",
       "    </tr>\n",
       "  </thead>\n",
       "  <tbody>\n",
       "    <tr>\n",
       "      <th>294</th>\n",
       "      <td>Guerrero Ltd</td>\n",
       "      <td>8711512142</td>\n",
       "      <td>C. Aurora Pina 419\\nAlmería, 62030</td>\n",
       "      <td>Ávila</td>\n",
       "      <td>Juana Rey Mariscal</td>\n",
       "      <td>34948375594</td>\n",
       "      <td>jvilalta@yahoo.com</td>\n",
       "    </tr>\n",
       "    <tr>\n",
       "      <th>955</th>\n",
       "      <td>Correa, Santos and Pizarro</td>\n",
       "      <td>7258493641</td>\n",
       "      <td>Rambla de Ciríaco Sedano 8 Apt. 08 \\nLas Palma...</td>\n",
       "      <td>Vizcaya</td>\n",
       "      <td>Carmelo Sarabia-Cárdenas</td>\n",
       "      <td>34849870295</td>\n",
       "      <td>jvilalta@yahoo.com</td>\n",
       "    </tr>\n",
       "  </tbody>\n",
       "</table>\n",
       "</div>"
      ],
      "text/plain": [
       "                 nombre_empresa         nit  \\\n",
       "294                Guerrero Ltd  8711512142   \n",
       "955  Correa, Santos and Pizarro  7258493641   \n",
       "\n",
       "                                             direccion   ciudad  \\\n",
       "294                 C. Aurora Pina 419\\nAlmería, 62030    Ávila   \n",
       "955  Rambla de Ciríaco Sedano 8 Apt. 08 \\nLas Palma...  Vizcaya   \n",
       "\n",
       "              nombre_contacto     telefono               email  \n",
       "294        Juana Rey Mariscal  34948375594  jvilalta@yahoo.com  \n",
       "955  Carmelo Sarabia-Cárdenas  34849870295  jvilalta@yahoo.com  "
      ]
     },
     "execution_count": 23,
     "metadata": {},
     "output_type": "execute_result"
    }
   ],
   "source": [
    "#consultas valores duplicados en columna email\n",
    "clientes['email'].duplicated().sum()\n",
    "\n",
    "#mostrar lo valores duplicados en columna email\n",
    "clientes[clientes['email'].duplicated(keep=False)].sort_values(by='email')"
   ]
  },
  {
   "cell_type": "code",
   "execution_count": 24,
   "id": "60bffbba",
   "metadata": {},
   "outputs": [],
   "source": [
    "#cambiar el correo electronico de la fila 955\n",
    "clientes.at[955, 'email'] = 'jvilalta2@yahoo.com'"
   ]
  },
  {
   "cell_type": "code",
   "execution_count": 27,
   "id": "6985dd1d",
   "metadata": {},
   "outputs": [],
   "source": [
    "\n",
    "#guardar el dataframe limpio en un nuevo archivo csv\n",
    "clientes.to_csv(\"D:/Proyectos/Trazamatic/data/processed/clientes_limpio.csv\", index=False, encoding=\"utf-8\")\n",
    "\n"
   ]
  }
 ],
 "metadata": {
  "kernelspec": {
   "display_name": "venv",
   "language": "python",
   "name": "python3"
  },
  "language_info": {
   "codemirror_mode": {
    "name": "ipython",
    "version": 3
   },
   "file_extension": ".py",
   "mimetype": "text/x-python",
   "name": "python",
   "nbconvert_exporter": "python",
   "pygments_lexer": "ipython3",
   "version": "3.13.3"
  }
 },
 "nbformat": 4,
 "nbformat_minor": 5
}
